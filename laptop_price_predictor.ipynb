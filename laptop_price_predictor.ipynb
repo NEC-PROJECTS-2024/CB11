{
  "cells": [
    {
      "cell_type": "code",
      "execution_count": 8,
      "id": "82edeb04",
      "metadata": {
        "id": "82edeb04"
      },
      "outputs": [
        {
          "ename": "ModuleNotFoundError",
          "evalue": "No module named 'numpy'",
          "output_type": "error",
          "traceback": [
            "\u001b[0;31m---------------------------------------------------------------------------\u001b[0m",
            "\u001b[0;31mModuleNotFoundError\u001b[0m                       Traceback (most recent call last)",
            "Cell \u001b[0;32mIn[8], line 1\u001b[0m\n\u001b[0;32m----> 1\u001b[0m \u001b[38;5;28;01mimport\u001b[39;00m \u001b[38;5;21;01mnumpy\u001b[39;00m \u001b[38;5;28;01mas\u001b[39;00m \u001b[38;5;21;01mnp\u001b[39;00m\n\u001b[1;32m      2\u001b[0m \u001b[38;5;28;01mimport\u001b[39;00m \u001b[38;5;21;01mpandas\u001b[39;00m \u001b[38;5;28;01mas\u001b[39;00m \u001b[38;5;21;01mpd\u001b[39;00m\n\u001b[1;32m      3\u001b[0m \u001b[38;5;28;01mimport\u001b[39;00m \u001b[38;5;21;01mmatplotlib\u001b[39;00m\u001b[38;5;21;01m.\u001b[39;00m\u001b[38;5;21;01mpyplot\u001b[39;00m \u001b[38;5;28;01mas\u001b[39;00m \u001b[38;5;21;01mplt\u001b[39;00m\n",
            "\u001b[0;31mModuleNotFoundError\u001b[0m: No module named 'numpy'"
          ]
        }
      ],
      "source": [
        "import numpy as np\n",
        "import pandas as pd\n",
        "import matplotlib.pyplot as plt\n",
        "import warnings\n",
        "warnings.filterwarnings('ignore')\n",
        "from warnings import simplefilter\n",
        "simplefilter(action='ignore', category=FutureWarning)"
      ]
    },
    {
      "cell_type": "code",
      "execution_count": null,
      "id": "203583d9",
      "metadata": {
        "id": "203583d9"
      },
      "outputs": [],
      "source": [
        "df = pd.read_csv('laptop_data.csv')"
      ]
    },
    {
      "cell_type": "code",
      "execution_count": null,
      "id": "5106314a",
      "metadata": {
        "colab": {
          "base_uri": "https://localhost:8080/",
          "height": 310
        },
        "id": "5106314a",
        "outputId": "aade2d9b-e34d-4dce-bd17-cba1bf1202b9"
      },
      "outputs": [],
      "source": [
        "df.head()"
      ]
    },
    {
      "cell_type": "code",
      "execution_count": null,
      "id": "5df0e810",
      "metadata": {
        "colab": {
          "base_uri": "https://localhost:8080/"
        },
        "id": "5df0e810",
        "outputId": "91dccbb7-fd51-4d48-eb46-cbef3b988e89"
      },
      "outputs": [],
      "source": [
        "df.shape"
      ]
    },
    {
      "cell_type": "code",
      "execution_count": null,
      "id": "2721be49",
      "metadata": {
        "colab": {
          "base_uri": "https://localhost:8080/"
        },
        "id": "2721be49",
        "outputId": "bd4ed11e-fcad-4adc-dd2a-eb0268951a99"
      },
      "outputs": [],
      "source": [
        "df.info()"
      ]
    },
    {
      "cell_type": "code",
      "execution_count": null,
      "id": "d623a6c1",
      "metadata": {
        "colab": {
          "base_uri": "https://localhost:8080/"
        },
        "id": "d623a6c1",
        "outputId": "ac863ad8-3cc6-4683-82bb-2be56f59412f"
      },
      "outputs": [],
      "source": [
        "df.duplicated().sum()"
      ]
    },
    {
      "cell_type": "markdown",
      "id": "-4U1AL_FcCOD",
      "metadata": {
        "id": "-4U1AL_FcCOD"
      },
      "source": [
        "checking for duplicate rows : take all duplicate rows and count it\n",
        "here result is 0\n",
        "no no dupliate rows\n"
      ]
    },
    {
      "cell_type": "code",
      "execution_count": null,
      "id": "a3e5e8f5",
      "metadata": {
        "colab": {
          "base_uri": "https://localhost:8080/"
        },
        "id": "a3e5e8f5",
        "outputId": "455a331a-03ad-4985-a527-0e5b3a3b4e89"
      },
      "outputs": [],
      "source": [
        "df.isnull().sum()"
      ]
    },
    {
      "cell_type": "markdown",
      "id": "h7n-0b7VcQQt",
      "metadata": {
        "id": "h7n-0b7VcQQt"
      },
      "source": [
        "* checking for null values : take all null values and sum it\n",
        "*  here all are 0\n",
        "* so no null values are found\n"
      ]
    },
    {
      "cell_type": "code",
      "execution_count": null,
      "id": "7da78c39",
      "metadata": {
        "id": "7da78c39"
      },
      "outputs": [],
      "source": [
        "df.drop(columns=['Unnamed: 0'],inplace=True)"
      ]
    },
    {
      "cell_type": "markdown",
      "id": "lU3WHsZVckLe",
      "metadata": {
        "id": "lU3WHsZVckLe"
      },
      "source": [
        "* here we are removing the column 'Unnamed:0' because it has no use"
      ]
    },
    {
      "cell_type": "code",
      "execution_count": null,
      "id": "533fe856",
      "metadata": {
        "colab": {
          "base_uri": "https://localhost:8080/",
          "height": 293
        },
        "id": "533fe856",
        "outputId": "3d7b37b7-1f34-4a7b-8553-d37bf500cc09"
      },
      "outputs": [],
      "source": [
        "df.head()"
      ]
    },
    {
      "cell_type": "markdown",
      "id": "KnvxuZSqrOr7",
      "metadata": {
        "id": "KnvxuZSqrOr7"
      },
      "source": [
        "* removed gb and kg strings in all rows as we needed to convert to numerical values"
      ]
    },
    {
      "cell_type": "code",
      "execution_count": null,
      "id": "b0c543e1",
      "metadata": {
        "id": "b0c543e1"
      },
      "outputs": [],
      "source": [
        "df['Ram'] = df['Ram'].str.replace('GB','')\n",
        "df['Weight'] = df['Weight'].str.replace('kg','')"
      ]
    },
    {
      "cell_type": "code",
      "execution_count": null,
      "id": "291e2927",
      "metadata": {
        "colab": {
          "base_uri": "https://localhost:8080/",
          "height": 293
        },
        "id": "291e2927",
        "outputId": "439749e3-eacb-4165-d29d-e12a7912a9b7"
      },
      "outputs": [],
      "source": [
        "df.head()"
      ]
    },
    {
      "cell_type": "code",
      "execution_count": null,
      "id": "9d4c27a5",
      "metadata": {
        "id": "9d4c27a5"
      },
      "outputs": [],
      "source": [
        "df['Ram'] = df['Ram'].astype('int32')\n",
        "df['Weight'] = df['Weight'].astype('float32')"
      ]
    },
    {
      "cell_type": "markdown",
      "id": "X7nw8mbic6WY",
      "metadata": {
        "id": "X7nw8mbic6WY"
      },
      "source": [
        "* after removing those gb from ram and kb from weight\n",
        "* we needed to change it to int and float"
      ]
    },
    {
      "cell_type": "code",
      "execution_count": null,
      "id": "356bdba8",
      "metadata": {
        "colab": {
          "base_uri": "https://localhost:8080/"
        },
        "id": "356bdba8",
        "outputId": "72b786bc-7253-4ecf-cbe3-21452f41c7d4"
      },
      "outputs": [],
      "source": [
        "df.info()"
      ]
    },
    {
      "cell_type": "code",
      "execution_count": null,
      "id": "51e9c4c5",
      "metadata": {
        "id": "51e9c4c5"
      },
      "outputs": [],
      "source": [
        "import seaborn as sns"
      ]
    },
    {
      "cell_type": "code",
      "execution_count": null,
      "id": "37e41400",
      "metadata": {
        "colab": {
          "base_uri": "https://localhost:8080/",
          "height": 482
        },
        "id": "37e41400",
        "outputId": "520497bd-bf14-4fa0-e5a3-1fafc6fb23e7"
      },
      "outputs": [],
      "source": [
        "sns.distplot(df['Price'])"
      ]
    },
    {
      "cell_type": "markdown",
      "id": "CJm_FDm7dIbF",
      "metadata": {
        "id": "CJm_FDm7dIbF"
      },
      "source": [
        "* distplot : it gives us the distribution of the data\n",
        "* here price is our output value so we are checking the data distrubution\n",
        "* obersvation : here we are observed right skew\n",
        "* if skew is observed that means our data having outlier\n",
        "* outlier means some rows or values have high values rarely which effects our model decison making\n",
        "* so we needed to take care of that while training the model\n"
      ]
    },
    {
      "cell_type": "code",
      "execution_count": null,
      "id": "505d0590",
      "metadata": {
        "colab": {
          "base_uri": "https://localhost:8080/",
          "height": 504
        },
        "id": "505d0590",
        "outputId": "2e0b1df3-9e4c-46ab-cd0e-748db7afeca6"
      },
      "outputs": [],
      "source": [
        "df['Company'].value_counts().plot(kind='bar')"
      ]
    },
    {
      "cell_type": "code",
      "execution_count": null,
      "id": "894b0057",
      "metadata": {
        "colab": {
          "base_uri": "https://localhost:8080/",
          "height": 507
        },
        "id": "894b0057",
        "outputId": "93fbf010-b06e-42ca-c20c-a4162fe3f02a"
      },
      "outputs": [],
      "source": [
        "sns.barplot(x=df['Company'],y=df['Price'])\n",
        "plt.xticks(rotation='vertical')\n",
        "plt.show()"
      ]
    },
    {
      "cell_type": "markdown",
      "id": "R-erkUY5e4fp",
      "metadata": {
        "id": "R-erkUY5e4fp"
      },
      "source": [
        "* doing bivariate analysis : comparing two features to see whether relation exists or not\n",
        "* observation : if we pick any company laptop our price is increased based no company\n"
      ]
    },
    {
      "cell_type": "code",
      "execution_count": null,
      "id": "b2f90ba1",
      "metadata": {
        "colab": {
          "base_uri": "https://localhost:8080/",
          "height": 556
        },
        "id": "b2f90ba1",
        "outputId": "bbe1947b-d24d-4661-dee3-4c11abcff154"
      },
      "outputs": [],
      "source": [
        "df['TypeName'].value_counts().plot(kind='bar')"
      ]
    },
    {
      "cell_type": "code",
      "execution_count": null,
      "id": "110dbb85",
      "metadata": {
        "colab": {
          "base_uri": "https://localhost:8080/",
          "height": 559
        },
        "id": "110dbb85",
        "outputId": "97a31040-7777-4f4c-ac13-04f4d2d16c58"
      },
      "outputs": [],
      "source": [
        "sns.barplot(x=df['TypeName'],y=df['Price'])\n",
        "plt.xticks(rotation='vertical')\n",
        "plt.show()"
      ]
    },
    {
      "cell_type": "markdown",
      "id": "DJvwyzxgfqkn",
      "metadata": {
        "id": "DJvwyzxgfqkn"
      },
      "source": [
        "* workstation is more costly than the other type of laptop models\n",
        "* the second most is gaming\n",
        "* picking type of laptop will effect it's price\n"
      ]
    },
    {
      "cell_type": "code",
      "execution_count": null,
      "id": "8ba1598a",
      "metadata": {
        "colab": {
          "base_uri": "https://localhost:8080/",
          "height": 466
        },
        "id": "8ba1598a",
        "outputId": "fa553ae2-7874-46bf-81c6-7d5b3a7dcc34"
      },
      "outputs": [],
      "source": [
        "sns.distplot(df['Inches'])"
      ]
    },
    {
      "cell_type": "markdown",
      "id": "shf1HowPgB26",
      "metadata": {
        "id": "shf1HowPgB26"
      },
      "source": [
        "* checking distrubution among inches\n",
        "* observation : mostly we are having between 15 - 16 inches\n",
        "* second mostly we are having 13 - 14 inches\n"
      ]
    },
    {
      "cell_type": "code",
      "execution_count": null,
      "id": "114dabbf",
      "metadata": {
        "colab": {
          "base_uri": "https://localhost:8080/",
          "height": 466
        },
        "id": "114dabbf",
        "outputId": "7ae39715-b261-4a1d-f42b-a4e5e74998ce"
      },
      "outputs": [],
      "source": [
        "sns.scatterplot(x=df['Inches'],y=df['Price'])"
      ]
    },
    {
      "cell_type": "markdown",
      "id": "l0w6yzekgXgA",
      "metadata": {
        "id": "l0w6yzekgXgA"
      },
      "source": [
        "* scatterplot : relation between two variables in a dataset\n",
        "* here there is not much change as mostly even 14 - 16 inches are saming prices\n",
        "* even 16-18 having same prices only few having higher prices indivudially\n",
        "* so less corrleation with price"
      ]
    },
    {
      "cell_type": "code",
      "execution_count": null,
      "id": "46a2daff",
      "metadata": {
        "colab": {
          "base_uri": "https://localhost:8080/"
        },
        "id": "46a2daff",
        "outputId": "58ee2a48-2407-41b3-c04a-e3fc30e6ef24"
      },
      "outputs": [],
      "source": [
        "df['ScreenResolution'].value_counts()"
      ]
    },
    {
      "cell_type": "markdown",
      "id": "Ia8oDqC-hUZ9",
      "metadata": {
        "id": "Ia8oDqC-hUZ9"
      },
      "source": [
        "* here this column contains lot's of data combined\n",
        "* so splitting into these categories\n",
        "* 1) screen resolution : 2400 * 1260\n",
        "* 2) Touch Screen\n",
        "* 3) ips panel\n",
        "* so we are using feature engineering technique called feature split\n",
        "* feature spilt : split the feature to sub features for understand more valuable insights\n"
      ]
    },
    {
      "cell_type": "code",
      "execution_count": null,
      "id": "4e4f26f5",
      "metadata": {
        "id": "4e4f26f5"
      },
      "outputs": [],
      "source": [
        "df['Touchscreen'] = df['ScreenResolution'].apply(lambda x:1 if 'Touchscreen' in x else 0)"
      ]
    },
    {
      "cell_type": "code",
      "execution_count": null,
      "id": "07992d2e",
      "metadata": {
        "colab": {
          "base_uri": "https://localhost:8080/",
          "height": 362
        },
        "id": "07992d2e",
        "outputId": "37c0ab6c-8ae1-4b50-9bea-fa9c4fe41e59"
      },
      "outputs": [],
      "source": [
        "df.sample(5)"
      ]
    },
    {
      "cell_type": "code",
      "execution_count": null,
      "id": "2fa50fd6",
      "metadata": {
        "colab": {
          "base_uri": "https://localhost:8080/",
          "height": 442
        },
        "id": "2fa50fd6",
        "outputId": "5df87a21-acbf-4b67-e23a-e9b5c1b33ac0"
      },
      "outputs": [],
      "source": [
        "df['Touchscreen'].value_counts().plot(kind='bar')"
      ]
    },
    {
      "cell_type": "code",
      "execution_count": null,
      "id": "d1b428b4",
      "metadata": {
        "colab": {
          "base_uri": "https://localhost:8080/",
          "height": 466
        },
        "id": "d1b428b4",
        "outputId": "ce32fc8c-6c19-4f62-a488-cb4f82c1bef5"
      },
      "outputs": [],
      "source": [
        "sns.barplot(x=df['Touchscreen'],y=df['Price'])"
      ]
    },
    {
      "cell_type": "markdown",
      "id": "PTh6_HxtiV2w",
      "metadata": {
        "id": "PTh6_HxtiV2w"
      },
      "source": [
        "* touch screen laptops are more costly than non touch screen ones\n"
      ]
    },
    {
      "cell_type": "code",
      "execution_count": null,
      "id": "8580c689",
      "metadata": {
        "id": "8580c689"
      },
      "outputs": [],
      "source": [
        "df['Ips'] = df['ScreenResolution'].apply(lambda x:1 if 'IPS' in x else 0)"
      ]
    },
    {
      "cell_type": "code",
      "execution_count": null,
      "id": "4fb51139",
      "metadata": {
        "colab": {
          "base_uri": "https://localhost:8080/",
          "height": 327
        },
        "id": "4fb51139",
        "outputId": "3b3a191e-412b-4a06-b879-4585e2544c8e"
      },
      "outputs": [],
      "source": [
        "df.head()"
      ]
    },
    {
      "cell_type": "code",
      "execution_count": null,
      "id": "44ef7296",
      "metadata": {
        "colab": {
          "base_uri": "https://localhost:8080/",
          "height": 442
        },
        "id": "44ef7296",
        "outputId": "83b52138-b66b-48b2-cf04-d45e759fc83f"
      },
      "outputs": [],
      "source": [
        "df['Ips'].value_counts().plot(kind='bar')"
      ]
    },
    {
      "cell_type": "code",
      "execution_count": null,
      "id": "b8fd50ed",
      "metadata": {
        "colab": {
          "base_uri": "https://localhost:8080/",
          "height": 466
        },
        "id": "b8fd50ed",
        "outputId": "b3e04adf-47ae-4cd2-ff8e-760c6dbf5e15"
      },
      "outputs": [],
      "source": [
        "sns.barplot(x=df['Ips'],y=df['Price'])"
      ]
    },
    {
      "cell_type": "markdown",
      "id": "S9arDnBwie8l",
      "metadata": {
        "id": "S9arDnBwie8l"
      },
      "source": [
        "* ips ones are more costly than non ips ones"
      ]
    },
    {
      "cell_type": "code",
      "execution_count": null,
      "id": "b0cee465",
      "metadata": {
        "id": "b0cee465"
      },
      "outputs": [],
      "source": [
        "new = df['ScreenResolution'].str.split('x',n=1,expand=True)"
      ]
    },
    {
      "cell_type": "code",
      "execution_count": null,
      "id": "a84439f0",
      "metadata": {
        "id": "a84439f0"
      },
      "outputs": [],
      "source": [
        "df['X_res'] = new[0]\n",
        "df['Y_res'] = new[1]"
      ]
    },
    {
      "cell_type": "code",
      "execution_count": null,
      "id": "8a36d2c6",
      "metadata": {
        "colab": {
          "base_uri": "https://localhost:8080/",
          "height": 590
        },
        "id": "8a36d2c6",
        "outputId": "ab3cc4a8-e3f5-4e59-d582-c9b0c1f1da16"
      },
      "outputs": [],
      "source": [
        "df.sample(5)"
      ]
    },
    {
      "cell_type": "code",
      "execution_count": null,
      "id": "7e34b4df",
      "metadata": {
        "id": "7e34b4df"
      },
      "outputs": [],
      "source": [
        "df['X_res'] = df['X_res'].str.replace(',','').str.findall(r'(\\d+\\.?\\d+)').apply(lambda x:x[0])"
      ]
    },
    {
      "cell_type": "code",
      "execution_count": null,
      "id": "ea8467a9",
      "metadata": {
        "colab": {
          "base_uri": "https://localhost:8080/",
          "height": 431
        },
        "id": "ea8467a9",
        "outputId": "b20dca3c-362b-42bb-9f82-7bd0fd818229"
      },
      "outputs": [],
      "source": [
        "df.head()"
      ]
    },
    {
      "cell_type": "markdown",
      "id": "Zv7_9OIniom6",
      "metadata": {
        "id": "Zv7_9OIniom6"
      },
      "source": [
        "* splitting x_res and y_res into seperate as both are predictor for price increase or decrease"
      ]
    },
    {
      "cell_type": "code",
      "execution_count": null,
      "id": "dcb9da28",
      "metadata": {
        "id": "dcb9da28"
      },
      "outputs": [],
      "source": [
        "df['X_res'] = df['X_res'].astype('int')\n",
        "df['Y_res'] = df['Y_res'].astype('int')"
      ]
    },
    {
      "cell_type": "code",
      "execution_count": null,
      "id": "e9020c73",
      "metadata": {
        "colab": {
          "base_uri": "https://localhost:8080/"
        },
        "id": "e9020c73",
        "outputId": "d7ae24a5-1ddb-4a01-81af-568196fa62bc"
      },
      "outputs": [],
      "source": [
        "df.info()"
      ]
    },
    {
      "cell_type": "code",
      "execution_count": null,
      "id": "f7e12f23",
      "metadata": {
        "colab": {
          "base_uri": "https://localhost:8080/"
        },
        "id": "f7e12f23",
        "outputId": "dcd0449b-35ec-4ce4-f900-61b527727671"
      },
      "outputs": [],
      "source": [
        "df.corr()['Price']"
      ]
    },
    {
      "cell_type": "markdown",
      "id": "-vvuwlcNi2HP",
      "metadata": {
        "id": "-vvuwlcNi2HP"
      },
      "source": [
        "* corr : it is used to check correlation among attributes\n",
        "* Perfect: 0.80 to 1.00\n",
        "* Strong: 0.50 to 0.79\n",
        "* Moderate: 0.30 to 0.49\n",
        "* Weak: 0.00 to 0.29\n",
        "\n",
        "* observations\n",
        "* ram having more correlation\n",
        "* xres,yres having more correlation\n",
        "* here xres,yres are collinear : so we can keep one\n",
        "* but ppi : inches per pixel : gives more accurate\n",
        "* ppi : square root (x^2 + y^2) / inches\n",
        "* take that as column\n",
        "\n",
        "\n",
        "---\n",
        "\n"
      ]
    },
    {
      "cell_type": "code",
      "execution_count": null,
      "id": "dbd95a94",
      "metadata": {
        "id": "dbd95a94"
      },
      "outputs": [],
      "source": [
        "df['ppi'] = (((df['X_res']**2) + (df['Y_res']**2))**0.5/df['Inches']).astype('float')"
      ]
    },
    {
      "cell_type": "code",
      "execution_count": null,
      "id": "98975041",
      "metadata": {
        "colab": {
          "base_uri": "https://localhost:8080/"
        },
        "id": "98975041",
        "outputId": "24256d69-f4f6-4eab-f100-92f2fc4d8708"
      },
      "outputs": [],
      "source": [
        "df.corr()['Price']"
      ]
    },
    {
      "cell_type": "code",
      "execution_count": null,
      "id": "43a9d35d",
      "metadata": {
        "id": "43a9d35d"
      },
      "outputs": [],
      "source": [
        "df.drop(columns=['ScreenResolution'],inplace=True)"
      ]
    },
    {
      "cell_type": "code",
      "execution_count": null,
      "id": "5a9b5380",
      "metadata": {
        "colab": {
          "base_uri": "https://localhost:8080/",
          "height": 414
        },
        "id": "5a9b5380",
        "outputId": "1712d4d0-b7eb-4051-e950-f17d9dd27b92"
      },
      "outputs": [],
      "source": [
        "df.head()"
      ]
    },
    {
      "cell_type": "code",
      "execution_count": null,
      "id": "ef361f90",
      "metadata": {
        "id": "ef361f90"
      },
      "outputs": [],
      "source": [
        "df.drop(columns=['Inches','X_res','Y_res'],inplace=True)"
      ]
    },
    {
      "cell_type": "code",
      "execution_count": null,
      "id": "2d327aa0",
      "metadata": {
        "colab": {
          "base_uri": "https://localhost:8080/",
          "height": 293
        },
        "id": "2d327aa0",
        "outputId": "92c505df-0dc8-4cca-a05d-caecc40fcd98"
      },
      "outputs": [],
      "source": [
        "df.head()"
      ]
    },
    {
      "cell_type": "code",
      "execution_count": null,
      "id": "81f9ec40",
      "metadata": {
        "colab": {
          "base_uri": "https://localhost:8080/"
        },
        "id": "81f9ec40",
        "outputId": "90d896a2-9825-4b6c-ebfd-34f3d031a693"
      },
      "outputs": [],
      "source": [
        "df['Cpu'].value_counts()"
      ]
    },
    {
      "cell_type": "code",
      "execution_count": null,
      "id": "34ce8f2c",
      "metadata": {
        "id": "34ce8f2c"
      },
      "outputs": [],
      "source": [
        "df['Cpu Name'] = df['Cpu'].apply(lambda x:\" \".join(x.split()[0:3]))"
      ]
    },
    {
      "cell_type": "code",
      "execution_count": null,
      "id": "8928f81c",
      "metadata": {
        "colab": {
          "base_uri": "https://localhost:8080/",
          "height": 310
        },
        "id": "8928f81c",
        "outputId": "2fe384c5-8799-4717-e5e0-97e012c2ab02"
      },
      "outputs": [],
      "source": [
        "df.head()"
      ]
    },
    {
      "cell_type": "code",
      "execution_count": null,
      "id": "5a23ed7d",
      "metadata": {
        "id": "5a23ed7d"
      },
      "outputs": [],
      "source": [
        "def fetch_processor(text):\n",
        "    if text == 'Intel Core i7' or text == 'Intel Core i5' or text == 'Intel Core i3':\n",
        "        return text\n",
        "    else:\n",
        "        if text.split()[0] == 'Intel':\n",
        "            return 'Other Intel Processor'\n",
        "        else:\n",
        "            return 'AMD Processor'"
      ]
    },
    {
      "cell_type": "code",
      "execution_count": null,
      "id": "224c21db",
      "metadata": {
        "id": "224c21db"
      },
      "outputs": [],
      "source": [
        "df['Cpu brand'] = df['Cpu Name'].apply(fetch_processor)"
      ]
    },
    {
      "cell_type": "code",
      "execution_count": null,
      "id": "c3c72072",
      "metadata": {
        "colab": {
          "base_uri": "https://localhost:8080/",
          "height": 345
        },
        "id": "c3c72072",
        "outputId": "1fbbae26-495c-4a44-eada-b468ac6e4535"
      },
      "outputs": [],
      "source": [
        "df.head()"
      ]
    },
    {
      "cell_type": "code",
      "execution_count": null,
      "id": "bdc8ec9f",
      "metadata": {
        "colab": {
          "base_uri": "https://localhost:8080/",
          "height": 578
        },
        "id": "bdc8ec9f",
        "outputId": "7d57619a-7487-46bf-fdfc-9b6fa3e2addb"
      },
      "outputs": [],
      "source": [
        "df['Cpu brand'].value_counts().plot(kind='bar')"
      ]
    },
    {
      "cell_type": "code",
      "execution_count": null,
      "id": "1a8350f0",
      "metadata": {
        "colab": {
          "base_uri": "https://localhost:8080/",
          "height": 581
        },
        "id": "1a8350f0",
        "outputId": "b6853250-3742-4be2-ee1d-e014f0ed937c"
      },
      "outputs": [],
      "source": [
        "sns.barplot(x=df['Cpu brand'],y=df['Price'])\n",
        "plt.xticks(rotation='vertical')\n",
        "plt.show()"
      ]
    },
    {
      "cell_type": "markdown",
      "id": "KBNUJzQ2lOmR",
      "metadata": {
        "id": "KBNUJzQ2lOmR"
      },
      "source": [
        "* here no big difference between : amd,intel core i3 , othe processor\n",
        "* mainly price difference is between i5 and i7"
      ]
    },
    {
      "cell_type": "code",
      "execution_count": null,
      "id": "fc54795b",
      "metadata": {
        "id": "fc54795b"
      },
      "outputs": [],
      "source": [
        "df.drop(columns=['Cpu','Cpu Name'],inplace=True)"
      ]
    },
    {
      "cell_type": "code",
      "execution_count": null,
      "id": "367e9992",
      "metadata": {
        "colab": {
          "base_uri": "https://localhost:8080/",
          "height": 206
        },
        "id": "367e9992",
        "outputId": "3257f91d-13a6-41f7-df5b-3e3bff0bc556"
      },
      "outputs": [],
      "source": [
        "df.head()"
      ]
    },
    {
      "cell_type": "code",
      "execution_count": null,
      "id": "b6cd52b7",
      "metadata": {
        "colab": {
          "base_uri": "https://localhost:8080/",
          "height": 451
        },
        "id": "b6cd52b7",
        "outputId": "66f39f87-da44-4825-de5a-2a8396e14bde"
      },
      "outputs": [],
      "source": [
        "df['Ram'].value_counts().plot(kind='bar')"
      ]
    },
    {
      "cell_type": "code",
      "execution_count": null,
      "id": "ca0e2e0b",
      "metadata": {
        "colab": {
          "base_uri": "https://localhost:8080/",
          "height": 453
        },
        "id": "ca0e2e0b",
        "outputId": "fddaae49-d3b6-4370-9df0-933a074648a6"
      },
      "outputs": [],
      "source": [
        "sns.barplot(x=df['Ram'],y=df['Price'])\n",
        "plt.xticks(rotation='vertical')\n",
        "plt.show()"
      ]
    },
    {
      "cell_type": "markdown",
      "id": "B0S68Ld6l5vQ",
      "metadata": {
        "id": "B0S68Ld6l5vQ"
      },
      "source": [
        "* having linear relation ship : so more correlation\n",
        "* bigger the size bigger the price\n",
        "* corr nearly having 0.74"
      ]
    },
    {
      "cell_type": "code",
      "execution_count": null,
      "id": "c4a1224b",
      "metadata": {
        "colab": {
          "base_uri": "https://localhost:8080/"
        },
        "id": "c4a1224b",
        "outputId": "7f518bdd-953c-45b9-b29b-694876038738"
      },
      "outputs": [],
      "source": [
        "df['Memory'].value_counts()"
      ]
    },
    {
      "cell_type": "code",
      "execution_count": null,
      "id": "2391ad9b",
      "metadata": {
        "id": "2391ad9b"
      },
      "outputs": [],
      "source": [
        "df['Memory'] = df['Memory'].astype(str).replace('\\.0', '', regex=True)\n",
        "df[\"Memory\"] = df[\"Memory\"].str.replace('GB', '')\n",
        "df[\"Memory\"] = df[\"Memory\"].str.replace('TB', '000')\n",
        "new = df[\"Memory\"].str.split(\"+\", n = 1, expand = True)\n",
        "\n",
        "df[\"first\"]= new[0]\n",
        "df[\"first\"]=df[\"first\"].str.strip()\n",
        "\n",
        "df[\"second\"]= new[1]\n",
        "\n",
        "df[\"Layer1HDD\"] = df[\"first\"].apply(lambda x: 1 if \"HDD\" in x else 0)\n",
        "df[\"Layer1SSD\"] = df[\"first\"].apply(lambda x: 1 if \"SSD\" in x else 0)\n",
        "df[\"Layer1Hybrid\"] = df[\"first\"].apply(lambda x: 1 if \"Hybrid\" in x else 0)\n",
        "df[\"Layer1Flash_Storage\"] = df[\"first\"].apply(lambda x: 1 if \"Flash Storage\" in x else 0)\n",
        "\n",
        "df['first'] = df['first'].str.replace(r'\\D', '')\n",
        "\n",
        "df[\"second\"].fillna(\"0\", inplace = True)\n",
        "\n",
        "df[\"Layer2HDD\"] = df[\"second\"].apply(lambda x: 1 if \"HDD\" in x else 0)\n",
        "df[\"Layer2SSD\"] = df[\"second\"].apply(lambda x: 1 if \"SSD\" in x else 0)\n",
        "df[\"Layer2Hybrid\"] = df[\"second\"].apply(lambda x: 1 if \"Hybrid\" in x else 0)\n",
        "df[\"Layer2Flash_Storage\"] = df[\"second\"].apply(lambda x: 1 if \"Flash Storage\" in x else 0)\n",
        "\n",
        "df['second'] = df['second'].str.replace(r'\\D', '')\n",
        "\n",
        "df[\"first\"] = df[\"first\"].astype(int)\n",
        "df[\"second\"] = df[\"second\"].astype(int)\n",
        "\n",
        "df[\"HDD\"]=(df[\"first\"]*df[\"Layer1HDD\"]+df[\"second\"]*df[\"Layer2HDD\"])\n",
        "df[\"SSD\"]=(df[\"first\"]*df[\"Layer1SSD\"]+df[\"second\"]*df[\"Layer2SSD\"])\n",
        "df[\"Hybrid\"]=(df[\"first\"]*df[\"Layer1Hybrid\"]+df[\"second\"]*df[\"Layer2Hybrid\"])\n",
        "df[\"Flash_Storage\"]=(df[\"first\"]*df[\"Layer1Flash_Storage\"]+df[\"second\"]*df[\"Layer2Flash_Storage\"])\n",
        "\n",
        "df.drop(columns=['first', 'second', 'Layer1HDD', 'Layer1SSD', 'Layer1Hybrid',\n",
        "       'Layer1Flash_Storage', 'Layer2HDD', 'Layer2SSD', 'Layer2Hybrid',\n",
        "       'Layer2Flash_Storage'],inplace=True)"
      ]
    },
    {
      "cell_type": "markdown",
      "id": "yRK0axv5mJiL",
      "metadata": {
        "id": "yRK0axv5mJiL"
      },
      "source": [
        "* feature split : making memory column to more column\n",
        "* hdd\n",
        "* sdd\n",
        "* flash storage\n",
        "* hybrid\n",
        "* if rows having any of these it have value like 256 if not 0\n"
      ]
    },
    {
      "cell_type": "code",
      "execution_count": null,
      "id": "919f2130",
      "metadata": {
        "colab": {
          "base_uri": "https://localhost:8080/",
          "height": 469
        },
        "id": "919f2130",
        "outputId": "79f0c3bc-adc1-4a03-eafd-09aac059d51b"
      },
      "outputs": [],
      "source": [
        "df.sample(5)"
      ]
    },
    {
      "cell_type": "code",
      "execution_count": null,
      "id": "79b1c60f",
      "metadata": {
        "id": "79b1c60f"
      },
      "outputs": [],
      "source": [
        "df.drop(columns=['Memory'],inplace=True)"
      ]
    },
    {
      "cell_type": "code",
      "execution_count": null,
      "id": "cf1a2da5",
      "metadata": {
        "colab": {
          "base_uri": "https://localhost:8080/",
          "height": 310
        },
        "id": "cf1a2da5",
        "outputId": "1e17d5a7-4d0f-42a9-8adf-571cc2a8c7ae"
      },
      "outputs": [],
      "source": [
        "df.head()"
      ]
    },
    {
      "cell_type": "code",
      "execution_count": null,
      "id": "a0797800",
      "metadata": {
        "colab": {
          "base_uri": "https://localhost:8080/"
        },
        "id": "a0797800",
        "outputId": "370bbf52-50d2-4eff-a242-ba168d4fd8a1"
      },
      "outputs": [],
      "source": [
        "df.corr()['Price']"
      ]
    },
    {
      "cell_type": "markdown",
      "id": "tndLhXHqme8x",
      "metadata": {
        "id": "tndLhXHqme8x"
      },
      "source": [
        "* sdd having huge relation\n",
        "* remove hybrid and flash storage (-ve correlation)"
      ]
    },
    {
      "cell_type": "code",
      "execution_count": null,
      "id": "845e8723",
      "metadata": {
        "id": "845e8723"
      },
      "outputs": [],
      "source": [
        "df.drop(columns=['Hybrid','Flash_Storage'],inplace=True)"
      ]
    },
    {
      "cell_type": "code",
      "execution_count": null,
      "id": "5e069ba6",
      "metadata": {
        "colab": {
          "base_uri": "https://localhost:8080/",
          "height": 206
        },
        "id": "5e069ba6",
        "outputId": "c6fe9d56-4551-4b9b-f5bf-d205a5171042"
      },
      "outputs": [],
      "source": [
        "df.head()"
      ]
    },
    {
      "cell_type": "code",
      "execution_count": null,
      "id": "65722933",
      "metadata": {
        "colab": {
          "base_uri": "https://localhost:8080/"
        },
        "id": "65722933",
        "outputId": "57758071-240e-4ce7-82df-2448789e1952"
      },
      "outputs": [],
      "source": [
        "df['Gpu'].value_counts()"
      ]
    },
    {
      "cell_type": "code",
      "execution_count": null,
      "id": "75b44cba",
      "metadata": {
        "id": "75b44cba"
      },
      "outputs": [],
      "source": [
        "df['Gpu brand'] = df['Gpu'].apply(lambda x:x.split()[0])"
      ]
    },
    {
      "cell_type": "markdown",
      "id": "Q5HK-0ignKKO",
      "metadata": {
        "id": "Q5HK-0ignKKO"
      },
      "source": [
        "* split based on the brand like intel or amd\n",
        "* split the array by space\n",
        "* collect the first value s[0]"
      ]
    },
    {
      "cell_type": "code",
      "execution_count": null,
      "id": "4ca7c61a",
      "metadata": {
        "colab": {
          "base_uri": "https://localhost:8080/",
          "height": 310
        },
        "id": "4ca7c61a",
        "outputId": "704a16a0-a698-43ec-8637-860a771d568d"
      },
      "outputs": [],
      "source": [
        "df.head()"
      ]
    },
    {
      "cell_type": "code",
      "execution_count": null,
      "id": "558506dd",
      "metadata": {
        "colab": {
          "base_uri": "https://localhost:8080/"
        },
        "id": "558506dd",
        "outputId": "66104936-0f41-4514-ff94-85fda836ec9f"
      },
      "outputs": [],
      "source": [
        "df['Gpu brand'].value_counts()"
      ]
    },
    {
      "cell_type": "code",
      "execution_count": null,
      "id": "39d984fd",
      "metadata": {
        "id": "39d984fd"
      },
      "outputs": [],
      "source": [
        "df = df[df['Gpu brand'] != 'ARM']"
      ]
    },
    {
      "cell_type": "markdown",
      "id": "hnHWNHm0nXHf",
      "metadata": {
        "id": "hnHWNHm0nXHf"
      },
      "source": [
        "* remove arm because of the having one row"
      ]
    },
    {
      "cell_type": "code",
      "execution_count": null,
      "id": "7bd66b54",
      "metadata": {
        "colab": {
          "base_uri": "https://localhost:8080/"
        },
        "id": "7bd66b54",
        "outputId": "6eb2b12b-acde-415c-d739-eeb31398b781"
      },
      "outputs": [],
      "source": [
        "df['Gpu brand'].value_counts()"
      ]
    },
    {
      "cell_type": "code",
      "execution_count": null,
      "id": "a102cfaa",
      "metadata": {
        "colab": {
          "base_uri": "https://localhost:8080/",
          "height": 479
        },
        "id": "a102cfaa",
        "outputId": "60cd21f5-167a-4c8f-ffcb-69a2fa2620bb"
      },
      "outputs": [],
      "source": [
        "sns.barplot(x=df['Gpu brand'],y=df['Price'],estimator=np.median)\n",
        "plt.xticks(rotation='vertical')\n",
        "plt.show()"
      ]
    },
    {
      "cell_type": "code",
      "execution_count": null,
      "id": "233a8672",
      "metadata": {
        "id": "233a8672"
      },
      "outputs": [],
      "source": [
        "df.drop(columns=['Gpu'],inplace=True)"
      ]
    },
    {
      "cell_type": "code",
      "execution_count": null,
      "id": "995b12b3",
      "metadata": {
        "colab": {
          "base_uri": "https://localhost:8080/",
          "height": 206
        },
        "id": "995b12b3",
        "outputId": "7ef0e76f-2cc6-4277-a2ff-923f0ca85c83"
      },
      "outputs": [],
      "source": [
        "df.head()"
      ]
    },
    {
      "cell_type": "code",
      "execution_count": null,
      "id": "87ea542b",
      "metadata": {
        "colab": {
          "base_uri": "https://localhost:8080/"
        },
        "id": "87ea542b",
        "outputId": "c70cccf0-6475-4918-ed51-98fb2cf6a813"
      },
      "outputs": [],
      "source": [
        "df['OpSys'].value_counts()"
      ]
    },
    {
      "cell_type": "code",
      "execution_count": null,
      "id": "14cbb277",
      "metadata": {
        "colab": {
          "base_uri": "https://localhost:8080/",
          "height": 533
        },
        "id": "14cbb277",
        "outputId": "8116d61f-03ea-4c35-cd5b-479c37c13716"
      },
      "outputs": [],
      "source": [
        "sns.barplot(x=df['OpSys'],y=df['Price'])\n",
        "plt.xticks(rotation='vertical')\n",
        "plt.show()"
      ]
    },
    {
      "cell_type": "markdown",
      "id": "hBkbgfgBnrXf",
      "metadata": {
        "id": "hBkbgfgBnrXf"
      },
      "source": [
        "* mainly macos and windows are primary price predictiors\n",
        "* so based on that make them into 3 operating systems"
      ]
    },
    {
      "cell_type": "code",
      "execution_count": null,
      "id": "14d789f5",
      "metadata": {
        "id": "14d789f5"
      },
      "outputs": [],
      "source": [
        "def cat_os(inp):\n",
        "    if inp == 'Windows 10' or inp == 'Windows 7' or inp == 'Windows 10 S':\n",
        "        return 'Windows'\n",
        "    elif inp == 'macOS' or inp == 'Mac OS X':\n",
        "        return 'Mac'\n",
        "    else:\n",
        "        return 'Others/No OS/Linux'"
      ]
    },
    {
      "cell_type": "code",
      "execution_count": null,
      "id": "fc8e7750",
      "metadata": {
        "id": "fc8e7750"
      },
      "outputs": [],
      "source": [
        "df['os'] = df['OpSys'].apply(cat_os)"
      ]
    },
    {
      "cell_type": "code",
      "execution_count": null,
      "id": "11c5a038",
      "metadata": {
        "colab": {
          "base_uri": "https://localhost:8080/",
          "height": 206
        },
        "id": "11c5a038",
        "outputId": "8cc4bcdd-4a71-4e48-c735-030e6c0caeb2"
      },
      "outputs": [],
      "source": [
        "df.head()"
      ]
    },
    {
      "cell_type": "code",
      "execution_count": null,
      "id": "a283996d",
      "metadata": {
        "id": "a283996d"
      },
      "outputs": [],
      "source": [
        "df.drop(columns=['OpSys'],inplace=True)"
      ]
    },
    {
      "cell_type": "code",
      "execution_count": null,
      "id": "9b43fbf7",
      "metadata": {
        "colab": {
          "base_uri": "https://localhost:8080/",
          "height": 576
        },
        "id": "9b43fbf7",
        "outputId": "ed881fea-2766-4b71-fd4f-73dfc491f786"
      },
      "outputs": [],
      "source": [
        "sns.barplot(x=df['os'],y=df['Price'])\n",
        "plt.xticks(rotation='vertical')\n",
        "plt.show()"
      ]
    },
    {
      "cell_type": "code",
      "execution_count": null,
      "id": "1d2865dd",
      "metadata": {
        "colab": {
          "base_uri": "https://localhost:8080/",
          "height": 466
        },
        "id": "1d2865dd",
        "outputId": "d0067d10-cf69-4a56-97ab-b659db1e0d3f"
      },
      "outputs": [],
      "source": [
        "sns.distplot(df['Weight'])"
      ]
    },
    {
      "cell_type": "markdown",
      "id": "aave6k96oCwl",
      "metadata": {
        "id": "aave6k96oCwl"
      },
      "source": [
        "* we can't idenfity any relation only figured out the maximum weights are in between 2 and 3"
      ]
    },
    {
      "cell_type": "code",
      "execution_count": null,
      "id": "5cb512c6",
      "metadata": {
        "colab": {
          "base_uri": "https://localhost:8080/",
          "height": 466
        },
        "id": "5cb512c6",
        "outputId": "19244fa6-427c-47b3-a8a6-1e90bbc6cda3"
      },
      "outputs": [],
      "source": [
        "sns.scatterplot(x=df['Weight'],y=df['Price'])"
      ]
    },
    {
      "cell_type": "markdown",
      "id": "aM8vgnbCoKR5",
      "metadata": {
        "id": "aM8vgnbCoKR5"
      },
      "source": [
        "* we don't see much diff respectively so it have less correlation\n"
      ]
    },
    {
      "cell_type": "code",
      "execution_count": null,
      "id": "993c3e5d",
      "metadata": {
        "colab": {
          "base_uri": "https://localhost:8080/"
        },
        "id": "993c3e5d",
        "outputId": "de915fe3-b4b2-4dd5-dca0-3dedf7eeb624"
      },
      "outputs": [],
      "source": [
        "df.corr()['Price']"
      ]
    },
    {
      "cell_type": "code",
      "execution_count": null,
      "id": "95f097f3",
      "metadata": {
        "colab": {
          "base_uri": "https://localhost:8080/",
          "height": 524
        },
        "id": "95f097f3",
        "outputId": "656094b7-170f-4197-86cc-5992f5936fcf"
      },
      "outputs": [],
      "source": [
        "sns.heatmap(df.corr())"
      ]
    },
    {
      "cell_type": "markdown",
      "id": "9k1OYZMhoQ6K",
      "metadata": {
        "id": "9k1OYZMhoQ6K"
      },
      "source": [
        "* heatmap : it gives all relation with each other in 2d matrix\n",
        "* observations\n",
        "* ram and price\n",
        "* ssd and ram\n",
        "* hdd and weight\n",
        "* touch screen and ppi\n",
        "correlaton among each variable with each other"
      ]
    },
    {
      "cell_type": "code",
      "execution_count": null,
      "id": "3aaf8bc8",
      "metadata": {
        "colab": {
          "base_uri": "https://localhost:8080/",
          "height": 466
        },
        "id": "3aaf8bc8",
        "outputId": "f5d99b83-72bc-4fed-f1b2-c62a303c5990"
      },
      "outputs": [],
      "source": [
        "sns.distplot(np.log(df['Price']))"
      ]
    },
    {
      "cell_type": "markdown",
      "id": "1BUCHSAsojXl",
      "metadata": {
        "id": "1BUCHSAsojXl"
      },
      "source": [
        "* as we having right skewed apply log transormation  of price and remove the original price\n",
        "* it is having normal distrubution on order to make model predict higher\n"
      ]
    },
    {
      "cell_type": "code",
      "execution_count": null,
      "id": "8f1293c0",
      "metadata": {
        "id": "8f1293c0"
      },
      "outputs": [],
      "source": [
        "X = df.drop(columns=['Price'])\n",
        "y = np.log(df['Price'])"
      ]
    },
    {
      "cell_type": "code",
      "execution_count": null,
      "id": "8f7fb4b3",
      "metadata": {
        "colab": {
          "base_uri": "https://localhost:8080/",
          "height": 423
        },
        "id": "8f7fb4b3",
        "outputId": "b5c3f37a-dcc2-4cda-92c8-10d072914f29"
      },
      "outputs": [],
      "source": [
        "X"
      ]
    },
    {
      "cell_type": "code",
      "execution_count": null,
      "id": "9f66cd48",
      "metadata": {
        "colab": {
          "base_uri": "https://localhost:8080/"
        },
        "id": "9f66cd48",
        "outputId": "85a5dff2-622b-4895-a596-b8458e65356f"
      },
      "outputs": [],
      "source": [
        "y"
      ]
    },
    {
      "cell_type": "code",
      "execution_count": null,
      "id": "60a0aaf0",
      "metadata": {
        "id": "60a0aaf0"
      },
      "outputs": [],
      "source": [
        "from sklearn.model_selection import train_test_split\n",
        "X_train,X_test,y_train,y_test = train_test_split(X,y,test_size=0.15,random_state=2)"
      ]
    },
    {
      "cell_type": "code",
      "execution_count": null,
      "id": "3e665d44",
      "metadata": {
        "colab": {
          "base_uri": "https://localhost:8080/",
          "height": 423
        },
        "id": "3e665d44",
        "outputId": "e6231ede-a25d-46f5-9de5-d4377c3182e3"
      },
      "outputs": [],
      "source": [
        "X_train"
      ]
    },
    {
      "cell_type": "code",
      "execution_count": null,
      "id": "87288c45",
      "metadata": {
        "id": "87288c45"
      },
      "outputs": [],
      "source": [
        "from sklearn.compose import ColumnTransformer\n",
        "from sklearn.pipeline import Pipeline\n",
        "from sklearn.preprocessing import OneHotEncoder\n",
        "from sklearn.metrics import r2_score,mean_absolute_error"
      ]
    },
    {
      "cell_type": "markdown",
      "id": "a9b9b064",
      "metadata": {
        "id": "a9b9b064"
      },
      "source": [
        "### Linear regression"
      ]
    },
    {
      "cell_type": "code",
      "execution_count": null,
      "id": "62d1c597",
      "metadata": {
        "colab": {
          "base_uri": "https://localhost:8080/"
        },
        "id": "62d1c597",
        "outputId": "75f64670-c519-4042-b593-bc6acd9f2056"
      },
      "outputs": [],
      "source": [
        "from sklearn.compose import ColumnTransformer\n",
        "from sklearn.pipeline import Pipeline\n",
        "from sklearn.preprocessing import OneHotEncoder\n",
        "from sklearn.linear_model import LinearRegression\n",
        "from sklearn.metrics import r2_score, mean_absolute_error, mean_squared_error\n",
        "import numpy as np\n",
        "\n",
        "\n",
        "step1 = ColumnTransformer(transformers=[\n",
        "    ('col_tnf', OneHotEncoder(sparse=False, drop='first'), [0, 1, 7, 10, 11])\n",
        "], remainder='passthrough')\n",
        "\n",
        "step2 = LinearRegression()\n",
        "\n",
        "pipe = Pipeline([\n",
        "    ('step1', step1),\n",
        "    ('step2', step2)\n",
        "])\n",
        "\n",
        "pipe.fit(X_train, y_train)\n",
        "\n",
        "y_pred = pipe.predict(X_test)\n",
        "\n",
        "r2 = r2_score(y_test, y_pred)\n",
        "mae = mean_absolute_error(y_test, y_pred)\n",
        "rmse = np.sqrt(mean_squared_error(y_test, y_pred))\n",
        "\n",
        "print('R2 score:', r2)\n",
        "print('MAE:', mae)\n",
        "print('RMSE:', rmse)\n"
      ]
    },
    {
      "cell_type": "markdown",
      "id": "J8X-Mni6pDn1",
      "metadata": {
        "id": "J8X-Mni6pDn1"
      },
      "source": [
        "* one hot encoder : make cateogrical to numerical values\n",
        "* mentioned the caterogical rows\n",
        "* use pipes\n",
        "* take all values of step1 (apply hot encoder) and pass the value to  step2 liear regressor\n"
      ]
    },
    {
      "cell_type": "markdown",
      "id": "1vQrHsiH0ITz",
      "metadata": {
        "id": "1vQrHsiH0ITz"
      },
      "source": [
        "# lasso regression"
      ]
    },
    {
      "cell_type": "code",
      "execution_count": null,
      "id": "-9V1zi8_z1oY",
      "metadata": {
        "colab": {
          "base_uri": "https://localhost:8080/"
        },
        "id": "-9V1zi8_z1oY",
        "outputId": "140e2913-29cb-432a-befb-e0633d17325c"
      },
      "outputs": [],
      "source": [
        "from sklearn.compose import ColumnTransformer\n",
        "from sklearn.preprocessing import OneHotEncoder\n",
        "from sklearn.linear_model import Lasso\n",
        "from sklearn.pipeline import Pipeline\n",
        "from sklearn.metrics import r2_score, mean_absolute_error, mean_squared_error\n",
        "import numpy as np\n",
        "\n",
        "step1 = ColumnTransformer(transformers=[\n",
        "    ('col_tnf',OneHotEncoder(sparse=False,drop='first'),[0,1,7,10,11])\n",
        "],remainder='passthrough')\n",
        "\n",
        "step2 = Lasso(alpha=0.001)\n",
        "\n",
        "pipe = Pipeline([\n",
        "    ('step1',step1),\n",
        "    ('step2',step2)\n",
        "])\n",
        "\n",
        "pipe.fit(X_train,y_train)\n",
        "\n",
        "y_pred = pipe.predict(X_test)\n",
        "\n",
        "mse = mean_squared_error(y_test, y_pred)\n",
        "rmse = np.sqrt(mse)\n",
        "\n",
        "print('R2 score:', r2_score(y_test, y_pred))\n",
        "print('MAE:', mean_absolute_error(y_test, y_pred))\n",
        "print('RMSE:', rmse)\n"
      ]
    },
    {
      "cell_type": "markdown",
      "id": "Z4pq3VTm0n66",
      "metadata": {
        "id": "Z4pq3VTm0n66"
      },
      "source": [
        "# ridge regression"
      ]
    },
    {
      "cell_type": "code",
      "execution_count": null,
      "id": "f5MVd5e_0oRF",
      "metadata": {
        "colab": {
          "base_uri": "https://localhost:8080/"
        },
        "id": "f5MVd5e_0oRF",
        "outputId": "052cdb5c-e0ab-4e23-a78f-1397f862e523"
      },
      "outputs": [],
      "source": [
        "from sklearn.linear_model import Ridge\n",
        "from sklearn.metrics import mean_squared_error\n",
        "import numpy as np\n",
        "\n",
        "step1 = ColumnTransformer(transformers=[\n",
        "    ('col_tnf',OneHotEncoder(sparse=False,drop='first'),[0,1,7,10,11])\n",
        "],remainder='passthrough')\n",
        "\n",
        "step2 = Lasso(alpha=0.001)\n",
        "\n",
        "pipe = Pipeline([\n",
        "    ('step1',step1),\n",
        "    ('step2',step2)\n",
        "])\n",
        "\n",
        "pipe.fit(X_train,y_train)\n",
        "\n",
        "y_pred = pipe.predict(X_test)\n",
        "\n",
        "mse = mean_squared_error(y_test, y_pred)\n",
        "rmse = np.sqrt(mse)\n",
        "\n",
        "print('R2 score:', r2_score(y_test, y_pred))\n",
        "print('MAE:', mean_absolute_error(y_test, y_pred))\n",
        "print('RMSE:', rmse)"
      ]
    },
    {
      "cell_type": "markdown",
      "id": "5401e577",
      "metadata": {
        "id": "5401e577"
      },
      "source": [
        "### Decision Tree"
      ]
    },
    {
      "cell_type": "code",
      "execution_count": null,
      "id": "767f57d9",
      "metadata": {
        "colab": {
          "base_uri": "https://localhost:8080/"
        },
        "id": "767f57d9",
        "outputId": "6fb730bd-3ac0-44e1-d078-722ceb41fde0"
      },
      "outputs": [],
      "source": [
        "from sklearn.compose import ColumnTransformer\n",
        "from sklearn.pipeline import Pipeline\n",
        "from sklearn.preprocessing import OneHotEncoder\n",
        "from sklearn.tree import DecisionTreeRegressor\n",
        "from sklearn.metrics import r2_score, mean_absolute_error, mean_squared_error\n",
        "import numpy as np\n",
        "\n",
        "\n",
        "step1 = ColumnTransformer(transformers=[\n",
        "    ('col_tnf', OneHotEncoder(sparse=False, drop='first'), [0, 1, 7, 10, 11])\n",
        "], remainder='passthrough')\n",
        "\n",
        "step2 = DecisionTreeRegressor(max_depth=8)\n",
        "\n",
        "pipe = Pipeline([\n",
        "    ('step1', step1),\n",
        "    ('step2', step2)\n",
        "])\n",
        "\n",
        "pipe.fit(X_train, y_train)\n",
        "y_pred = pipe.predict(X_test)\n",
        "\n",
        "print('R2 score:', r2_score(y_test, y_pred))\n",
        "print('MAE:', mean_absolute_error(y_test, y_pred))\n",
        "rmse = np.sqrt(mean_squared_error(y_test, y_pred))\n",
        "print('RMSE:', rmse)\n"
      ]
    },
    {
      "cell_type": "markdown",
      "id": "qxN_i3PA1UK_",
      "metadata": {
        "id": "qxN_i3PA1UK_"
      },
      "source": [
        "# polynomial Regression\n"
      ]
    },
    {
      "cell_type": "code",
      "execution_count": null,
      "id": "3Tvn4KPw5SYw",
      "metadata": {
        "colab": {
          "base_uri": "https://localhost:8080/"
        },
        "id": "3Tvn4KPw5SYw",
        "outputId": "da44d9f5-f1d6-4194-f30b-e2d30aaeeb5d"
      },
      "outputs": [],
      "source": [
        "from sklearn.preprocessing import PolynomialFeatures\n",
        "\n",
        "degree = 2\n",
        "\n",
        "step1_poly = ColumnTransformer(transformers=[\n",
        "    ('col_tnf', OneHotEncoder(sparse=False, drop='first'), [0, 1, 7, 10, 11]),\n",
        "    ('poly', PolynomialFeatures(degree=degree, include_bias=False), [2, 3])\n",
        "], remainder='passthrough')\n",
        "\n",
        "step2_poly = LinearRegression()\n",
        "\n",
        "poly_pipe = Pipeline([\n",
        "    ('step1', step1_poly),\n",
        "    ('step2', step2_poly)\n",
        "])\n",
        "\n",
        "poly_pipe.fit(X_train, y_train)\n",
        "\n",
        "y_pred_poly = poly_pipe.predict(X_test)\n",
        "\n",
        "r2_poly = r2_score(y_test, y_pred_poly)\n",
        "mae_poly = mean_absolute_error(y_test, y_pred_poly)\n",
        "rmse_poly = np.sqrt(mean_squared_error(y_test, y_pred_poly))\n",
        "\n",
        "print('Polynomial Regression - R2 score:', r2_poly)\n",
        "print('Polynomial Regression - MAE:', mae_poly)\n",
        "print('Polynomial Regression - RMSE:', rmse_poly)\n"
      ]
    },
    {
      "cell_type": "code",
      "execution_count": null,
      "id": "9XflzQKr6IUf",
      "metadata": {
        "colab": {
          "base_uri": "https://localhost:8080/",
          "height": 275
        },
        "id": "9XflzQKr6IUf",
        "outputId": "92915f8e-53e1-4710-ccff-ad2c5494b5a1"
      },
      "outputs": [],
      "source": [
        "df.sample(5)"
      ]
    },
    {
      "cell_type": "markdown",
      "id": "896ba19b",
      "metadata": {
        "id": "896ba19b"
      },
      "source": [
        "### Random Forest"
      ]
    },
    {
      "cell_type": "code",
      "execution_count": null,
      "id": "18175591",
      "metadata": {
        "colab": {
          "base_uri": "https://localhost:8080/"
        },
        "id": "18175591",
        "outputId": "37e19cbc-fcce-4fe7-db18-b8ea81f954a3"
      },
      "outputs": [],
      "source": [
        "import numpy as np\n",
        "from sklearn.compose import ColumnTransformer\n",
        "from sklearn.ensemble import RandomForestRegressor\n",
        "from sklearn.pipeline import Pipeline\n",
        "from sklearn.preprocessing import OneHotEncoder\n",
        "from sklearn.metrics import r2_score, mean_absolute_error\n",
        "\n",
        "step1 = ColumnTransformer(transformers=[\n",
        "    ('col_tnf',OneHotEncoder(sparse=False,drop='first'),[0,1,7,10,11])\n",
        "],remainder='passthrough')\n",
        "\n",
        "step2 = RandomForestRegressor(n_estimators=100,\n",
        "                              random_state=3,\n",
        "                              max_samples=0.5,\n",
        "                              max_features=0.5,\n",
        "                              max_depth=10)\n",
        "\n",
        "pipe = Pipeline([\n",
        "    ('step1',step1),\n",
        "    ('step2',step2)\n",
        "])\n",
        "\n",
        "pipe.fit(X_train, y_train)\n",
        "y_pred = pipe.predict(X_test)\n",
        "\n",
        "r2 = r2_score(y_test, y_pred)\n",
        "mae = mean_absolute_error(y_test, y_pred)\n",
        "rmse = np.sqrt(mean_squared_error(y_test, y_pred))\n",
        "\n",
        "print('R2 score:', r2)\n",
        "print('MAE:', mae)\n",
        "print('RMSE:', rmse)"
      ]
    },
    {
      "cell_type": "code",
      "execution_count": null,
      "id": "0658a12d",
      "metadata": {},
      "outputs": [],
      "source": [
        "import pickle\n",
        "\n",
        "pickle.dump(df,open('df.pkl','wb'))\n",
        "pickle.dump(pipe,open('pipe.pkl','wb'))"
      ]
    }
  ],
  "metadata": {
    "colab": {
      "provenance": []
    },
    "kernelspec": {
      "display_name": "Python 3",
      "language": "python",
      "name": "python3"
    },
    "language_info": {
      "codemirror_mode": {
        "name": "ipython",
        "version": 3
      },
      "file_extension": ".py",
      "mimetype": "text/x-python",
      "name": "python",
      "nbconvert_exporter": "python",
      "pygments_lexer": "ipython3",
      "version": "3.10.12"
    }
  },
  "nbformat": 4,
  "nbformat_minor": 5
}
